{
 "cells": [
  {
   "cell_type": "code",
   "execution_count": 29,
   "metadata": {},
   "outputs": [],
   "source": [
    "import os\n",
    "import io\n",
    "import numpy as np\n",
    "from keras.preprocessing import image\n",
    "import pandas as pd\n",
    "from PIL import Image, ImageChops, ImageEnhance\n",
    "import os\n",
    "from keras.layers import Input, Dense, Conv2D, MaxPooling2D, GlobalAveragePooling2D\n",
    "from keras.layers import Flatten\n",
    "from keras.layers import Dropout\n",
    "from keras.models import Model, Sequential \n",
    "from keras import backend as K\n",
    "from keras.preprocessing.image import ImageDataGenerator\n",
    "import matplotlib.pyplot as plt\n",
    "from keras.optimizers import RMSprop\n",
    "from keras.callbacks import ReduceLROnPlateau, EarlyStopping\n",
    "\n",
    "\n"
   ]
  },
  {
   "cell_type": "code",
   "execution_count": 30,
   "metadata": {},
   "outputs": [],
   "source": [
    "def jpeg_compression(img: Image.Image, quality: int=90) -> Image.Image:\n",
    "    if img.mode != 'RGB':\n",
    "        img = img.convert('RGB')\n",
    "    buffer = io.BytesIO()\n",
    "    img.save(buffer, format='JPEG', quality=quality)\n",
    "    im_data = buffer.getvalue()\n",
    "    img = Image.open(io.BytesIO(im_data))\n",
    "    buffer.close()\n",
    "    return img\n"
   ]
  },
  {
   "cell_type": "code",
   "execution_count": 31,
   "metadata": {},
   "outputs": [],
   "source": [
    "def convert_to_ela(img):\n",
    "    im = img.convert('RGB')\n",
    "    resaved_im = jpeg_compression(im)\n",
    "    \n",
    "    ela_im = ImageChops.difference(im, resaved_im)\n",
    "    \n",
    "    extrema = ela_im.getextrema()\n",
    "    max_diff = max([ex[1] for ex in extrema])\n",
    "    if max_diff == 0:\n",
    "        max_diff = 1\n",
    "    scale = 255.0 / max_diff\n",
    "    \n",
    "    ela_im = ImageEnhance.Brightness(ela_im).enhance(scale)\n",
    "    \n",
    "    return ela_im"
   ]
  },
  {
   "cell_type": "code",
   "execution_count": 32,
   "metadata": {},
   "outputs": [],
   "source": [
    "data_path = \"../data/CASIA/casia_ela/ela/\""
   ]
  },
  {
   "cell_type": "code",
   "execution_count": 33,
   "metadata": {},
   "outputs": [],
   "source": [
    "#Defining Parameters\n",
    "batch_size = 64\n",
    "nb_epochs = 30\n",
    "img_width = 256\n",
    "img_height = 256\n"
   ]
  },
  {
   "cell_type": "code",
   "execution_count": 34,
   "metadata": {},
   "outputs": [
    {
     "name": "stdout",
     "output_type": "stream",
     "text": [
      "Input:  (None, 256, 256, 3)\n",
      "Output:  (None, 252, 252, 32)\n",
      "Input:  (None, 256, 256, 3)\n",
      "Output:  (None, 126, 126, 32)\n",
      "Input:  (None, 256, 256, 3)\n",
      "Output:  (None, 122, 122, 32)\n",
      "Input:  (None, 256, 256, 3)\n",
      "Output:  (None, 61, 61, 32)\n",
      "Input:  (None, 256, 256, 3)\n",
      "Output:  (None, 61, 61, 32)   <----------\n",
      "Input:  (None, 256, 256, 3)\n",
      "Output:  (None, 119072) final2\n",
      "Input:  (None, 256, 256, 3)\n",
      "Output:  (None, 256)\n",
      "Input:  (None, 256, 256, 3)\n",
      "Output:  (None, 2) final2\n"
     ]
    }
   ],
   "source": [
    "model = Sequential()\n",
    "\n",
    "# input dimensions \n",
    "\n",
    "model.add(Conv2D(filters = 32, kernel_size = (5,5),padding = 'valid',activation ='relu', input_shape=(img_height, img_width, 3)))\n",
    "print(\"Input: \", model.input_shape)\n",
    "print(\"Output: \", model.output_shape)\n",
    " \n",
    "\n",
    "model.add(MaxPooling2D(pool_size = (2, 2)))\n",
    "print(\"Input: \", model.input_shape)\n",
    "print(\"Output: \", model.output_shape)\n",
    "\n",
    "\n",
    "\n",
    "model.add(Conv2D(filters = 32, kernel_size = (5,5),padding = 'valid', activation ='relu'))\n",
    "print(\"Input: \", model.input_shape)\n",
    "print(\"Output: \", model.output_shape)\n",
    "\n",
    "model.add(MaxPooling2D(pool_size=(2,2)))\n",
    "print(\"Input: \", model.input_shape)\n",
    "print(\"Output: \", model.output_shape)\n",
    "\n",
    "model.add(Dropout(0.25))\n",
    "print(\"Input: \", model.input_shape)\n",
    "print(\"Output: \", model.output_shape, \"  <----------\")\n",
    "\n",
    "\n",
    "\n",
    "#def tf_spatial_pyramid_pooling(tf_input_feature_maps, tf_spatial_pyramid, dtype=tf.float32):\n",
    "#    return tf.py_func(np_spatial_pyramid_pooling, [tf_input_feature_maps, tf_spatial_pyramid], dtype)\n",
    "#average pooling !!\n",
    "\n",
    "#from keras.layers import Input\n",
    "#from keras.models import Model\n",
    "#from keras_pyramid_pooling_module import PyramidPoolingModule\n",
    "\n",
    "#input_ = Input((224, 224, 3))\n",
    "#x = PyramidPoolingModule()(input_)\n",
    "#model = Model(inputs=input_, outputs=x)\n",
    "\n",
    "\n",
    "\n",
    "\n",
    "\n",
    "\n",
    "\n",
    "\n",
    "#model.add(GlobalAveragePooling2D())\n",
    "#print(\"Input: \", model.input_shape)\n",
    "#print(\"Output: \", model.output_shape, \" <-----------\")\n",
    "\n",
    "\n",
    "model.add(Flatten())\n",
    "print(\"Input: \", model.input_shape)\n",
    "print(\"Output: \", model.output_shape, \"final2\")\n",
    "\n",
    "model.add(Dense(256, activation = \"relu\"))\n",
    "print(\"Input: \", model.input_shape)\n",
    "print(\"Output: \", model.output_shape)\n",
    "    \n",
    "\n",
    "model.add(Dropout(0.5))\n",
    "model.add(Dense(2, activation = \"softmax\"))\n",
    "print(\"Input: \", model.input_shape)\n",
    "print(\"Output: \", model.output_shape, \"final2\")\n",
    "\n"
   ]
  },
  {
   "cell_type": "code",
   "execution_count": 35,
   "metadata": {},
   "outputs": [
    {
     "name": "stdout",
     "output_type": "stream",
     "text": [
      "Model: \"sequential_4\"\n",
      "_________________________________________________________________\n",
      "Layer (type)                 Output Shape              Param #   \n",
      "=================================================================\n",
      "conv2d_7 (Conv2D)            (None, 252, 252, 32)      2432      \n",
      "_________________________________________________________________\n",
      "max_pooling2d_7 (MaxPooling2 (None, 126, 126, 32)      0         \n",
      "_________________________________________________________________\n",
      "conv2d_8 (Conv2D)            (None, 122, 122, 32)      25632     \n",
      "_________________________________________________________________\n",
      "max_pooling2d_8 (MaxPooling2 (None, 61, 61, 32)        0         \n",
      "_________________________________________________________________\n",
      "dropout_7 (Dropout)          (None, 61, 61, 32)        0         \n",
      "_________________________________________________________________\n",
      "flatten_4 (Flatten)          (None, 119072)            0         \n",
      "_________________________________________________________________\n",
      "dense_7 (Dense)              (None, 256)               30482688  \n",
      "_________________________________________________________________\n",
      "dropout_8 (Dropout)          (None, 256)               0         \n",
      "_________________________________________________________________\n",
      "dense_8 (Dense)              (None, 2)                 514       \n",
      "=================================================================\n",
      "Total params: 30,511,266\n",
      "Trainable params: 30,511,266\n",
      "Non-trainable params: 0\n",
      "_________________________________________________________________\n"
     ]
    }
   ],
   "source": [
    "model.summary()"
   ]
  },
  {
   "cell_type": "code",
   "execution_count": 36,
   "metadata": {},
   "outputs": [],
   "source": [
    "optimizer = RMSprop(lr=0.0005, rho=0.9, epsilon=1e-08, decay=0.0)"
   ]
  },
  {
   "cell_type": "code",
   "execution_count": 37,
   "metadata": {},
   "outputs": [],
   "source": [
    "model.compile(optimizer = optimizer , loss = 'categorical_crossentropy', metrics = ['accuracy'])"
   ]
  },
  {
   "cell_type": "code",
   "execution_count": null,
   "metadata": {},
   "outputs": [],
   "source": []
  },
  {
   "cell_type": "code",
   "execution_count": 38,
   "metadata": {},
   "outputs": [],
   "source": [
    "#weights = \"saved_weights/test7.hdf5\"\n",
    "#model.load_weights(weights)\n"
   ]
  },
  {
   "cell_type": "code",
   "execution_count": 39,
   "metadata": {},
   "outputs": [],
   "source": [
    "train_datagen = ImageDataGenerator(rescale=1./255,\n",
    "    shear_range=0.2,\n",
    "    zoom_range=0.2,\n",
    "    horizontal_flip=True,\n",
    "    validation_split=0.2)"
   ]
  },
  {
   "cell_type": "code",
   "execution_count": null,
   "metadata": {},
   "outputs": [],
   "source": []
  },
  {
   "cell_type": "code",
   "execution_count": 40,
   "metadata": {},
   "outputs": [
    {
     "name": "stdout",
     "output_type": "stream",
     "text": [
      "Found 11469 images belonging to 2 classes.\n"
     ]
    }
   ],
   "source": [
    "train_data = train_datagen.flow_from_directory(\n",
    "    data_path,\n",
    "    target_size=(img_width, img_height),\n",
    "    batch_size=batch_size,\n",
    "    class_mode='categorical',\n",
    "    subset='training')"
   ]
  },
  {
   "cell_type": "code",
   "execution_count": 41,
   "metadata": {},
   "outputs": [
    {
     "name": "stdout",
     "output_type": "stream",
     "text": [
      "Found 2866 images belonging to 2 classes.\n"
     ]
    }
   ],
   "source": [
    "validation_data = train_datagen.flow_from_directory(\n",
    "    data_path, # same directory as training data\n",
    "    target_size=(img_width, img_height),\n",
    "    batch_size=batch_size,\n",
    "    class_mode='categorical',\n",
    "    subset='validation')"
   ]
  },
  {
   "cell_type": "code",
   "execution_count": null,
   "metadata": {},
   "outputs": [],
   "source": []
  },
  {
   "cell_type": "code",
   "execution_count": null,
   "metadata": {},
   "outputs": [],
   "source": []
  },
  {
   "cell_type": "code",
   "execution_count": null,
   "metadata": {},
   "outputs": [],
   "source": []
  },
  {
   "cell_type": "code",
   "execution_count": 42,
   "metadata": {},
   "outputs": [
    {
     "name": "stdout",
     "output_type": "stream",
     "text": [
      "Epoch 1/30\n",
      "179/179 [==============================] - 1273s 7s/step - loss: 0.5000 - accuracy: 0.7534 - val_loss: 0.7578 - val_accuracy: 0.6513\n",
      "Epoch 2/30\n",
      "179/179 [==============================] - 976s 5s/step - loss: 0.3427 - accuracy: 0.8485 - val_loss: 0.7729 - val_accuracy: 0.6513\n",
      "Epoch 3/30\n",
      "179/179 [==============================] - 1008s 6s/step - loss: 0.3054 - accuracy: 0.8690 - val_loss: 1.0444 - val_accuracy: 0.6670\n",
      "Epoch 4/30\n",
      "179/179 [==============================] - 954s 5s/step - loss: 0.2736 - accuracy: 0.8821 - val_loss: 1.1618 - val_accuracy: 0.6863\n",
      "Epoch 5/30\n",
      "179/179 [==============================] - 1118s 6s/step - loss: 0.2557 - accuracy: 0.8921 - val_loss: 1.8441 - val_accuracy: 0.6838\n",
      "Epoch 6/30\n",
      "179/179 [==============================] - 972s 5s/step - loss: 0.2405 - accuracy: 0.9011 - val_loss: 1.4839 - val_accuracy: 0.6838\n",
      "Epoch 7/30\n",
      "179/179 [==============================] - 934s 5s/step - loss: 0.2341 - accuracy: 0.9033 - val_loss: 1.2899 - val_accuracy: 0.6952\n",
      "Epoch 8/30\n",
      "179/179 [==============================] - 920s 5s/step - loss: 0.2370 - accuracy: 0.9055 - val_loss: 1.0929 - val_accuracy: 0.6999\n",
      "Epoch 9/30\n",
      "179/179 [==============================] - 928s 5s/step - loss: 0.2267 - accuracy: 0.9056 - val_loss: 2.4761 - val_accuracy: 0.6817\n",
      "Epoch 10/30\n",
      "179/179 [==============================] - 916s 5s/step - loss: 0.2300 - accuracy: 0.9041 - val_loss: 1.0724 - val_accuracy: 0.6738\n",
      "Epoch 11/30\n",
      "179/179 [==============================] - 896s 5s/step - loss: 0.2225 - accuracy: 0.9097 - val_loss: 1.7038 - val_accuracy: 0.7006\n",
      "Epoch 12/30\n",
      "179/179 [==============================] - 898s 5s/step - loss: 0.2251 - accuracy: 0.9093 - val_loss: 0.8867 - val_accuracy: 0.6934\n",
      "Epoch 13/30\n",
      "179/179 [==============================] - 897s 5s/step - loss: 0.2155 - accuracy: 0.9128 - val_loss: 0.4474 - val_accuracy: 0.6952\n",
      "Epoch 14/30\n",
      "179/179 [==============================] - 897s 5s/step - loss: 0.2078 - accuracy: 0.9152 - val_loss: 1.7849 - val_accuracy: 0.6899\n",
      "Epoch 15/30\n",
      "179/179 [==============================] - 885s 5s/step - loss: 0.2119 - accuracy: 0.9121 - val_loss: 2.2587 - val_accuracy: 0.6988\n",
      "Epoch 16/30\n",
      "179/179 [==============================] - 994s 6s/step - loss: 0.2131 - accuracy: 0.9170 - val_loss: 1.1393 - val_accuracy: 0.6995\n",
      "Epoch 17/30\n",
      "179/179 [==============================] - 1111s 6s/step - loss: 0.2001 - accuracy: 0.9197 - val_loss: 0.8414 - val_accuracy: 0.7009\n",
      "Epoch 18/30\n",
      "179/179 [==============================] - 1076s 6s/step - loss: 0.2107 - accuracy: 0.9199 - val_loss: 1.5314 - val_accuracy: 0.7041\n",
      "Epoch 19/30\n",
      "179/179 [==============================] - 1136s 6s/step - loss: 0.2089 - accuracy: 0.9204 - val_loss: 1.2876 - val_accuracy: 0.7263\n",
      "Epoch 20/30\n",
      "179/179 [==============================] - 1207s 7s/step - loss: 0.1942 - accuracy: 0.9255 - val_loss: 0.9501 - val_accuracy: 0.7109\n",
      "Epoch 21/30\n",
      "179/179 [==============================] - 1340s 7s/step - loss: 0.1995 - accuracy: 0.9220 - val_loss: 1.2280 - val_accuracy: 0.7234\n",
      "Epoch 22/30\n",
      "179/179 [==============================] - 1011s 6s/step - loss: 0.2012 - accuracy: 0.9222 - val_loss: 0.9643 - val_accuracy: 0.7106\n",
      "Epoch 23/30\n",
      "179/179 [==============================] - 876s 5s/step - loss: 0.1939 - accuracy: 0.9270 - val_loss: 0.8278 - val_accuracy: 0.7163\n",
      "Epoch 24/30\n",
      "179/179 [==============================] - 873s 5s/step - loss: 0.1949 - accuracy: 0.9268 - val_loss: 0.6566 - val_accuracy: 0.6749\n",
      "Epoch 25/30\n",
      "179/179 [==============================] - 892s 5s/step - loss: 0.1967 - accuracy: 0.9275 - val_loss: 0.8358 - val_accuracy: 0.7223\n",
      "Epoch 26/30\n",
      "179/179 [==============================] - 883s 5s/step - loss: 0.1851 - accuracy: 0.9300 - val_loss: 1.8315 - val_accuracy: 0.6792\n",
      "Epoch 27/30\n",
      "179/179 [==============================] - 876s 5s/step - loss: 0.1989 - accuracy: 0.9246 - val_loss: 1.0482 - val_accuracy: 0.7363\n",
      "Epoch 28/30\n",
      "179/179 [==============================] - 877s 5s/step - loss: 0.1903 - accuracy: 0.9280 - val_loss: 0.9837 - val_accuracy: 0.7241\n",
      "Epoch 29/30\n",
      "179/179 [==============================] - 922s 5s/step - loss: 0.1945 - accuracy: 0.9270 - val_loss: 1.2541 - val_accuracy: 0.7127\n",
      "Epoch 30/30\n",
      "179/179 [==============================] - 1001s 6s/step - loss: 0.1902 - accuracy: 0.9281 - val_loss: 1.0125 - val_accuracy: 0.7413\n"
     ]
    }
   ],
   "source": [
    "history = model.fit_generator(\n",
    "            train_data,\n",
    "            steps_per_epoch = train_data.samples // batch_size,\n",
    "            validation_data = validation_data, \n",
    "            validation_steps = validation_data.samples // batch_size,\n",
    "            epochs = nb_epochs)"
   ]
  },
  {
   "cell_type": "code",
   "execution_count": 43,
   "metadata": {},
   "outputs": [
    {
     "name": "stdout",
     "output_type": "stream",
     "text": [
      "done\n"
     ]
    }
   ],
   "source": [
    "print(\"done\")"
   ]
  },
  {
   "cell_type": "code",
   "execution_count": 44,
   "metadata": {},
   "outputs": [],
   "source": [
    "w_test7 = \"saved_weights/test7.hdf5\"\n",
    "model.save_weights(w_test7, overwrite = True)"
   ]
  },
  {
   "cell_type": "code",
   "execution_count": null,
   "metadata": {},
   "outputs": [],
   "source": []
  },
  {
   "cell_type": "code",
   "execution_count": null,
   "metadata": {},
   "outputs": [],
   "source": []
  },
  {
   "cell_type": "code",
   "execution_count": null,
   "metadata": {},
   "outputs": [],
   "source": []
  },
  {
   "cell_type": "code",
   "execution_count": null,
   "metadata": {},
   "outputs": [],
   "source": []
  },
  {
   "cell_type": "code",
   "execution_count": null,
   "metadata": {},
   "outputs": [],
   "source": []
  },
  {
   "cell_type": "code",
   "execution_count": 45,
   "metadata": {},
   "outputs": [
    {
     "name": "stdout",
     "output_type": "stream",
     "text": [
      "dict_keys(['val_loss', 'val_accuracy', 'loss', 'accuracy'])\n"
     ]
    }
   ],
   "source": [
    "print(history.history.keys())"
   ]
  },
  {
   "cell_type": "code",
   "execution_count": 46,
   "metadata": {},
   "outputs": [
    {
     "data": {
      "image/png": "[encoded data removed]",
      "text/plain": [
       "<Figure size 432x288 with 1 Axes>"
      ]
     },
     "metadata": {
      "needs_background": "light"
     },
     "output_type": "display_data"
    }
   ],
   "source": [
    "plt.plot(history.history['accuracy'])\n",
    "plt.plot(history.history['val_accuracy'])\n",
    "plt.title('model accuracy')\n",
    "plt.ylabel('accuracy')\n",
    "plt.xlabel('epoch')\n",
    "plt.legend(['train', 'test'], loc='upper left')\n",
    "plt.show()\n",
    "\n"
   ]
  },
  {
   "cell_type": "code",
   "execution_count": 47,
   "metadata": {},
   "outputs": [
    {
     "data": {
      "image/png": "[encoded data removed]",
      "text/plain": [
       "<Figure size 432x288 with 1 Axes>"
      ]
     },
     "metadata": {
      "needs_background": "light"
     },
     "output_type": "display_data"
    }
   ],
   "source": [
    "plt.plot(history.history['loss'])\n",
    "plt.plot(history.history['val_loss'])\n",
    "plt.title('model loss')\n",
    "plt.ylabel('loss')\n",
    "plt.xlabel('epoch')\n",
    "plt.legend(['train', 'test'], loc='upper left')\n",
    "plt.show()"
   ]
  },
  {
   "cell_type": "code",
   "execution_count": 48,
   "metadata": {},
   "outputs": [
    {
     "name": "stdout",
     "output_type": "stream",
     "text": [
      "Confusion Matrix\n",
      "[[1242  416]\n",
      " [ 914  294]]\n",
      "Classification Report\n",
      "              precision    recall  f1-score   support\n",
      "\n",
      "         Aut       0.58      0.75      0.65      1658\n",
      "        Tamp       0.41      0.24      0.31      1208\n",
      "\n",
      "    accuracy                           0.54      2866\n",
      "   macro avg       0.50      0.50      0.48      2866\n",
      "weighted avg       0.51      0.54      0.51      2866\n",
      "\n"
     ]
    }
   ],
   "source": [
    "#Confusion Matrix and Classification Report\n",
    "from sklearn.metrics import classification_report\n",
    "from sklearn.metrics import confusion_matrix\n",
    "Y_pred = model.predict_generator(validation_data, validation_data.samples // batch_size+1)\n",
    "y_pred = np.argmax(Y_pred, axis=1)\n",
    "print('Confusion Matrix')\n",
    "print(confusion_matrix(validation_data.classes, y_pred))\n",
    "\n",
    "\n",
    "print('Classification Report')\n",
    "target_names = ['Aut', 'Tamp']\n",
    "print(classification_report(validation_data.classes, y_pred, target_names=target_names))"
   ]
  },
  {
   "cell_type": "code",
   "execution_count": 49,
   "metadata": {},
   "outputs": [
    {
     "name": "stdout",
     "output_type": "stream",
     "text": [
      "aut tamp\n"
     ]
    }
   ],
   "source": [
    "x, y = validation_data.class_indices\n",
    "print(x, y)"
   ]
  },
  {
   "cell_type": "code",
   "execution_count": null,
   "metadata": {},
   "outputs": [],
   "source": []
  },
  {
   "cell_type": "code",
   "execution_count": null,
   "metadata": {},
   "outputs": [],
   "source": []
  },
  {
   "cell_type": "code",
   "execution_count": null,
   "metadata": {},
   "outputs": [],
   "source": []
  },
  {
   "cell_type": "code",
   "execution_count": null,
   "metadata": {},
   "outputs": [],
   "source": []
  },
  {
   "cell_type": "code",
   "execution_count": null,
   "metadata": {},
   "outputs": [],
   "source": [
    "#path of any test image\n",
    "predict_path = \"predict_images/i1_cm1.jpg\"\n",
    "\n"
   ]
  },
  {
   "cell_type": "code",
   "execution_count": null,
   "metadata": {},
   "outputs": [],
   "source": [
    "from IPython.display import Image as imgloader\n",
    "display(imgloader(filename = predict_path, width = img_width, height=img_height))\n"
   ]
  },
  {
   "cell_type": "code",
   "execution_count": null,
   "metadata": {},
   "outputs": [],
   "source": [
    "test_img = image.load_img(predict_path, target_size = (img_width, img_height))\n",
    "\n",
    "\n",
    "# if the image is an ela map already then comment the following \n",
    "test_img = convert_to_ela(test_img)\n",
    "\n",
    "\n",
    "\n",
    "temp = test_img\n",
    "test_image = image.img_to_array(test_img)\n",
    "test_image = np.expand_dims(test_image, axis=0)\n",
    "result = model.predict(test_image)\n",
    "temp\n"
   ]
  },
  {
   "cell_type": "code",
   "execution_count": null,
   "metadata": {},
   "outputs": [],
   "source": [
    "train_data.class_indices"
   ]
  },
  {
   "cell_type": "code",
   "execution_count": null,
   "metadata": {},
   "outputs": [],
   "source": [
    "result"
   ]
  },
  {
   "cell_type": "code",
   "execution_count": null,
   "metadata": {},
   "outputs": [],
   "source": [
    "tamp = result[0][1]\n",
    "if(tamp==1):\n",
    "    print(\"Fake image, some tampering detected !\")\n",
    "else:\n",
    "    print(\"The image looks authentic !\")"
   ]
  },
  {
   "cell_type": "code",
   "execution_count": null,
   "metadata": {},
   "outputs": [],
   "source": []
  }
 ],
 "metadata": {
  "kernelspec": {
   "display_name": "Python 3",
   "language": "python",
   "name": "python3"
  },
  "language_info": {
   "codemirror_mode": {
    "name": "ipython",
    "version": 3
   },
   "file_extension": ".py",
   "mimetype": "text/x-python",
   "name": "python",
   "nbconvert_exporter": "python",
   "pygments_lexer": "ipython3",
   "version": "3.7.6"
  },
  "varInspector": {
   "cols": {
    "lenName": 16,
    "lenType": 16,
    "lenVar": 40
   },
   "kernels_config": {
    "python": {
     "delete_cmd_postfix": "",
     "delete_cmd_prefix": "del ",
     "library": "var_list.py",
     "varRefreshCmd": "print(var_dic_list())"
    },
    "r": {
     "delete_cmd_postfix": ") ",
     "delete_cmd_prefix": "rm(",
     "library": "var_list.r",
     "varRefreshCmd": "cat(var_dic_list()) "
    }
   },
   "types_to_exclude": [
    "module",
    "function",
    "builtin_function_or_method",
    "instance",
    "_Feature"
   ],
   "window_display": false
  }
 },
 "nbformat": 4,
 "nbformat_minor": 2
}
